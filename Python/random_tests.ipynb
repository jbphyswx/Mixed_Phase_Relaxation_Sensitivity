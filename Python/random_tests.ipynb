{
 "cells": [
  {
   "cell_type": "code",
   "execution_count": 2,
   "metadata": {},
   "outputs": [
    {
     "name": "stdout",
     "output_type": "stream",
     "text": [
      "['/export/data1/jbenjami/Research_Schneider/CMIP5/CFMIP2/python', '/export/data1/jbenjami/Code/Python/', '/export/data1/jbenjami/anaconda3/lib/python38.zip', '/export/data1/jbenjami/anaconda3/lib/python3.8', '/export/data1/jbenjami/anaconda3/lib/python3.8/lib-dynload', '', '/export/data1/jbenjami/anaconda3/lib/python3.8/site-packages', '/export/data1/jbenjami/anaconda3/lib/python3.8/site-packages/IPython/extensions', '/export/data1/jbenjami/.ipython']\n"
     ]
    }
   ],
   "source": [
    "import sys\n",
    "sys.path.insert(1,r\"/export/data1/jbenjami/Code/Python/\")\n",
    "print(sys.path)\n",
    "import personal\n",
    "\n",
    "from importlib import reload\n",
    "import make_forcing\n",
    "import xarray as xr\n",
    "import os"
   ]
  },
  {
   "cell_type": "code",
   "execution_count": null,
   "metadata": {},
   "outputs": [],
   "source": [
    "model          = 'HadGEM2-A'\n",
    "exper          = 'amip'\n",
    "rip            = 'r1i1p1' # rip nomenclature, In the CMIP5 project, ensemble members are named in the rip-nomenclature, r for realization, i for initialisation and p for physics, followed by an integer, e.g. r1i1p1.\n",
    "data_path      = '/export/data1/jbenjami/Research_Schneider/CMIP5/CFMIP2/' # zhaoyi used /export/data1/zhaoyi/GCMForcedLES/cfmip2_output/'\n",
    "ds             = None\n",
    "    \n",
    "forcing_path = data_path + model + '/forcing/'        # zhaoyi used '/export/data1/zhaoyi/GCMForcedLES/forcing/'\n",
    "f_root = os.path.join(data_path, model, exper+'/')\n",
    "\n",
    "ds = xr.open_mfdataset(f_root+'*'+'_cfSites_'+model+'_'+exper+'_'+rip+'_'+'*.nc', decode_cf=True, decode_times=True,combine='by_coords',data_vars=\"minimal\", coords=\"minimal\", compat=\"override\",parallel=True)\n",
    "ds = ds.sortby('time')\n",
    "ds"
   ]
  },
  {
   "cell_type": "code",
   "execution_count": 14,
   "metadata": {},
   "outputs": [
    {
     "data": {
      "text/plain": [
       "array([ 78,  81,  82,  92,  99, 119], dtype=int32)"
      ]
     },
     "execution_count": 14,
     "metadata": {},
     "output_type": "execute_result"
    }
   ],
   "source": [
    "ds['site'][ds['lat']  < -45].values"
   ]
  }
 ],
 "metadata": {
  "kernelspec": {
   "display_name": "Python 3",
   "language": "python",
   "name": "python3"
  },
  "language_info": {
   "codemirror_mode": {
    "name": "ipython",
    "version": 3
   },
   "file_extension": ".py",
   "mimetype": "text/x-python",
   "name": "python",
   "nbconvert_exporter": "python",
   "pygments_lexer": "ipython3",
   "version": "3.8.5"
  }
 },
 "nbformat": 4,
 "nbformat_minor": 4
}
